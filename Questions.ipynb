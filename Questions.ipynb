{
 "cells": [
  {
   "cell_type": "markdown",
   "metadata": {},
   "source": [
    "## Work on Classes\n",
    "\n",
    "Here we are going to do some class exercises:"
   ]
  },
  {
   "cell_type": "code",
   "execution_count": 1,
   "metadata": {
    "scrolled": true
   },
   "outputs": [],
   "source": [
    "class Person {\n",
    "    constructor(name, hairColor) {\n",
    "        this.title = title;\n",
    "        this.author = author;\n",
    "    }\n",
    "    \n",
    "    amISpecial() {\n",
    "        // If it starts with \"w\" or \"W\", print out \"I'm Wynning!\"\n",
    "        // Else, print out \"Never judge a book by its cover ;)\"\n",
    "        if (title)\n",
    "        console.log(\"I'm Wynning!\")\n",
    "    }\n",
    "}"
   ]
  },
  {
   "cell_type": "code",
   "execution_count": 2,
   "metadata": {},
   "outputs": [],
   "source": [
    "let jonas = new Person(\"Jonas\", \"Blonde\");"
   ]
  },
  {
   "cell_type": "code",
   "execution_count": 6,
   "metadata": {},
   "outputs": [
    {
     "name": "stdout",
     "output_type": "stream",
     "text": [
      "Jonas\n"
     ]
    }
   ],
   "source": [
    "console.log(jonas.name);"
   ]
  },
  {
   "cell_type": "code",
   "execution_count": 9,
   "metadata": {},
   "outputs": [
    {
     "data": {
      "text/plain": [
       "false"
      ]
     },
     "execution_count": 9,
     "metadata": {},
     "output_type": "execute_result"
    }
   ],
   "source": [
    "\"Mike\"[0] === \"W\""
   ]
  },
  {
   "cell_type": "code",
   "execution_count": 12,
   "metadata": {},
   "outputs": [
    {
     "ename": "SyntaxError",
     "evalue": "Identifier 'Book' has already been declared",
     "output_type": "error",
     "traceback": [
      "evalmachine.<anonymous>:1",
      "class Book {",
      "^",
      "",
      "SyntaxError: Identifier 'Book' has already been declared",
      "    at evalmachine.<anonymous>:1:1",
      "    at Script.runInThisContext (vm.js:123:20)",
      "    at Object.runInThisContext (vm.js:312:38)",
      "    at run ([eval]:1002:15)",
      "    at onRunRequest ([eval]:829:18)",
      "    at onMessage ([eval]:789:13)",
      "    at process.emit (events.js:197:13)",
      "    at emit (internal/child_process.js:828:12)",
      "    at processTicksAndRejections (internal/process/next_tick.js:76:17)"
     ]
    }
   ],
   "source": [
    "class Book {\n",
    "constructor(title, author) {\n",
    "this.title = title;\n",
    "this.author = author;\n",
    " }\n",
    " getTitle(){\n",
    "   return(`${this.title}`)\n",
    " }\n",
    " getAuthor(){\n",
    "   return(`${this.author}`)\n",
    " }\n",
    " amISpecial(){\n",
    "   if(this.title.charAt(0) === \"w\" || this.title.charAt(0) === \"W\" ){\n",
    "     return(\"I'm Wynning!\")\n",
    "   }\n",
    "   else{\n",
    "     return(\"never judge a book by its cover ;)\");\n",
    "   }\n",
    " }\n",
    "}\n",
    "\n",
    "class Poem extends Book {\n",
    "  constructor(title, author){\n",
    "    super(title, author)\n",
    "  }\n",
    "\n",
    "  recite(){\n",
    "  if(this.title === \"O Amor Bate Na Aorta\") {\n",
    "    console.log(`Cantiga de amor sem eira\n",
    "nem beira,\n",
    "vira o mundo de cabeça\n",
    "para baixo,\n",
    "suspende a saia das mulheres,\n",
    "tira os óculos dos homens,\n",
    "o amor, seja como for,\n",
    "é o amor.\n",
    "\n",
    "Meu bem, não chores,\n",
    "hoje tem filme de Carlito.\n",
    "\n",
    "O amor bate na porta\n",
    "o amor bate na aorta,\n",
    "fui abrir e me constipei.\n",
    "Cardíaco e melancólico,\n",
    "o amor ronca na horta\n",
    "entre pés de laranjeira\n",
    "entre uvas meio verdes\n",
    "e desejos já maduros.\n",
    "\n",
    "Entre uvas meio verdes,\n",
    "meu amor, não te atormentes.\n",
    "Certos ácidos adoçam\n",
    "a boca murcha dos velhos\n",
    "e quando os dentes não mordem\n",
    "e quando os braços não prendem\n",
    "o amor faz uma cócega\n",
    "o amor desenha uma curva\n",
    "propõe uma geometria.\n",
    "\n",
    "Amor é bicho instruído.\n",
    "\n",
    "Olha: o amor pulou o muro\n",
    "o amor subiu na árvore\n",
    "em tempo de se estrepar.\n",
    "Pronto, o amor se estrepou.\n",
    "Daqui estou vendo o sangue\n",
    "que corre do corpo andrógino.\n",
    "Essa ferida, meu bem,\n",
    "às vezes não sara nunca\n",
    "às vezes sara amanhã.\n",
    "\n",
    "Daqui estou vendo o amor\n",
    "irritado, desapontado,\n",
    "mas também vejo outras coisas:\n",
    "vejo beijos que se beijam\n",
    "ouço mãos que se conversam\n",
    "e que viajam sem mapa.\n",
    "Vejo muitas outras coisas\n",
    "que não ouso compreender...`)\n",
    "    }\n",
    "  }\n",
    "}"
   ]
  },
  {
   "cell_type": "code",
   "execution_count": 13,
   "metadata": {},
   "outputs": [
    {
     "ename": "SyntaxError",
     "evalue": "Identifier 'poem' has already been declared",
     "output_type": "error",
     "traceback": [
      "evalmachine.<anonymous>:1",
      "let poem = new Poem(\"O Amor Bate Na Aorta\",\"Carlos Drummond de Andrade\");",
      "^",
      "",
      "SyntaxError: Identifier 'poem' has already been declared",
      "    at evalmachine.<anonymous>:1:1",
      "    at Script.runInThisContext (vm.js:123:20)",
      "    at Object.runInThisContext (vm.js:312:38)",
      "    at run ([eval]:1002:15)",
      "    at onRunRequest ([eval]:829:18)",
      "    at onMessage ([eval]:789:13)",
      "    at process.emit (events.js:197:13)",
      "    at emit (internal/child_process.js:828:12)",
      "    at processTicksAndRejections (internal/process/next_tick.js:76:17)"
     ]
    }
   ],
   "source": [
    "let poem = new Poem(\"O Amor Bate Na Aorta\",\"Carlos Drummond de Andrade\");\n",
    "poem.recite();"
   ]
  },
  {
   "cell_type": "code",
   "execution_count": null,
   "metadata": {},
   "outputs": [],
   "source": []
  }
 ],
 "metadata": {
  "kernelspec": {
   "display_name": "Javascript (Node.js)",
   "language": "javascript",
   "name": "javascript"
  },
  "language_info": {
   "file_extension": ".js",
   "mimetype": "application/javascript",
   "name": "javascript",
   "version": "11.9.0"
  }
 },
 "nbformat": 4,
 "nbformat_minor": 2
}
