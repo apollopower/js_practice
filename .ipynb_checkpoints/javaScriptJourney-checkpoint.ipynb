{
 "cells": [
  {
   "cell_type": "markdown",
   "metadata": {},
   "source": [
    "# Javascript Practice / Programming Fundamentals"
   ]
  },
  {
   "cell_type": "markdown",
   "metadata": {},
   "source": [
    "### TO DO:\n",
    "\n",
    "- How to think of functions\n",
    "- Word Problems\n",
    "\n",
    "Lets work through each section accordingly"
   ]
  },
  {
   "cell_type": "markdown",
   "metadata": {},
   "source": [
    "## 1) Longest Word Problem\n",
    "\n",
    "Given an array of words (represented as strings), return the longest word in the array. For example:\n",
    "\n",
    "```js\n",
    "longestWord(['jonas','pizza','automobile'])\n",
    "```\n",
    "\n",
    "should return ```automobile```"
   ]
  },
  {
   "cell_type": "code",
   "execution_count": 1,
   "metadata": {},
   "outputs": [],
   "source": [
    "function longestWord(wordArray) {\n",
    "    // code here\n",
    "}"
   ]
  },
  {
   "cell_type": "markdown",
   "metadata": {},
   "source": [
    "We can break down this problem by asking two essential questions:\n",
    "\n",
    "- What are we returning?\n",
    "- What is/are our input(s)?\n",
    "\n",
    "In this case, our answers are clear. We are returning an string, which represents a word, and our input is an array of strings, which represents words."
   ]
  },
  {
   "cell_type": "code",
   "execution_count": 2,
   "metadata": {},
   "outputs": [],
   "source": [
    "// takes in an array of words\n",
    "function longestWord(wordArray) {\n",
    "    \n",
    "} // returns a string, which represents a word"
   ]
  },
  {
   "cell_type": "markdown",
   "metadata": {},
   "source": [
    "Now think about what we have to do. Getting the longest word from an array means we need to _look through the array_.\n",
    "\n",
    "Arrays are like stacks of cards. You don't know what cards you have until you look through all of them. This means that to get the longest word in an array, we need to look through all words to see which one is the biggest.\n",
    "\n",
    "How can we do that?\n",
    "\n",
    "__With a loop__"
   ]
  },
  {
   "cell_type": "markdown",
   "metadata": {},
   "source": [
    "### An overview of loops"
   ]
  },
  {
   "cell_type": "markdown",
   "metadata": {},
   "source": [
    "Loops are one of the most important tools we have in our \"programmer tool belt\". We use them all the time, and they come in a variety of flavors.\n",
    "\n",
    "One of the \"purest\" and non-abstract ways of making a loop is using a __while loop__:"
   ]
  },
  {
   "cell_type": "code",
   "execution_count": 3,
   "metadata": {},
   "outputs": [
    {
     "name": "stdout",
     "output_type": "stream",
     "text": [
      "0\n",
      "1\n",
      "2\n",
      "3\n",
      "4\n",
      "5\n",
      "6\n",
      "7\n",
      "8\n",
      "9\n"
     ]
    },
    {
     "data": {
      "text/plain": [
       "9"
      ]
     },
     "execution_count": 3,
     "metadata": {},
     "output_type": "execute_result"
    }
   ],
   "source": [
    "let i = 0;\n",
    "while (i < 10) {\n",
    "    console.log(i);\n",
    "    i++;\n",
    "}"
   ]
  },
  {
   "cell_type": "markdown",
   "metadata": {},
   "source": [
    "We also have the ever so popular __for loop__:"
   ]
  },
  {
   "cell_type": "code",
   "execution_count": 4,
   "metadata": {},
   "outputs": [
    {
     "name": "stdout",
     "output_type": "stream",
     "text": [
      "0\n",
      "1\n",
      "2\n",
      "3\n",
      "4\n",
      "5\n",
      "6\n",
      "7\n",
      "8\n",
      "9\n"
     ]
    }
   ],
   "source": [
    "for (let i = 0; i < 10; i++) {\n",
    "    console.log(i);\n",
    "}"
   ]
  },
  {
   "cell_type": "code",
   "execution_count": null,
   "metadata": {},
   "outputs": [],
   "source": []
  }
 ],
 "metadata": {
  "kernelspec": {
   "display_name": "Javascript (Node.js)",
   "language": "javascript",
   "name": "javascript"
  },
  "language_info": {
   "file_extension": ".js",
   "mimetype": "application/javascript",
   "name": "javascript",
   "version": "11.9.0"
  }
 },
 "nbformat": 4,
 "nbformat_minor": 2
}
